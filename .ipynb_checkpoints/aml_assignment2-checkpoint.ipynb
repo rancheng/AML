{
 "cells": [
  {
   "cell_type": "markdown",
   "metadata": {
    "collapsed": true
   },
   "source": [
    "# COMP 551 AML Assignment 2\n",
    "## Ran Cheng, 260768706\n",
    "This project is for assignment 2 of applied machine learning course."
   ]
  },
  {
   "cell_type": "code",
   "execution_count": 1,
   "metadata": {},
   "outputs": [],
   "source": [
    "%matplotlib inline\n",
    "import numpy as np\n",
    "import pandas as pd\n",
    "import matplotlib.pyplot as plt\n",
    "from sklearn.model_selection import train_test_split"
   ]
  },
  {
   "cell_type": "code",
   "execution_count": 2,
   "metadata": {},
   "outputs": [
    {
     "name": "stdout",
     "output_type": "stream",
     "text": [
      "[1.3 1.3 1.3 1.3 1.3 1.3 1.3 1.3 1.3 1.3 1.3 1.3 1.3 1.3 1.3 1.3 1.3 1.3\n",
      " 1.3 1.3] [2. 2. 2. 2. 2. 2. 2. 2. 2. 2. 2. 2. 2. 2. 2. 2. 2. 2. 2. 2.]\n"
     ]
    }
   ],
   "source": [
    "# read classifier data, mean\n",
    "ds1_m0_data = pd.read_csv('./Data/DS1_m_0.txt', sep=\",\", header=None)\n",
    "ds1_m0_data = ds1_m0_data.dropna(axis=1, how='all')\n",
    "ds1_m0 = np.squeeze(np.asarray(ds1_m0_data))\n",
    "ds1_m1_data = pd.read_csv('./Data/DS1_m_1.txt', sep=\",\", header=None)\n",
    "ds1_m1_data = ds1_m1_data.dropna(axis=1, how='all')\n",
    "ds1_m1 = np.squeeze(np.asarray(ds1_m1_data))\n",
    "print(ds1_m0, ds1_m1)"
   ]
  },
  {
   "cell_type": "code",
   "execution_count": 3,
   "metadata": {},
   "outputs": [
    {
     "data": {
      "text/plain": [
       "(20, 20)"
      ]
     },
     "execution_count": 3,
     "metadata": {},
     "output_type": "execute_result"
    }
   ],
   "source": [
    "# read covarience matrrix\n",
    "ds1_cov_data = pd.read_csv('./Data/DS1_Cov.txt', sep=\",\", header=None)\n",
    "ds1_cov_data = ds1_cov_data.dropna(axis=1, how='all')\n",
    "ds1_cov = np.squeeze(np.asarray(ds1_cov_data))\n",
    "ds1_cov.shape"
   ]
  },
  {
   "cell_type": "code",
   "execution_count": 4,
   "metadata": {},
   "outputs": [
    {
     "name": "stdout",
     "output_type": "stream",
     "text": [
      "[ 1.9702043   3.03789074  3.28712392  3.28600391  1.79457394  2.91898175\n",
      "  2.99612094  3.66027886  0.26438647  2.61549723  0.09369434  2.86043891\n",
      "  4.02082908  1.71412364  1.31972489 -0.08539944  1.52492203  1.7726729\n",
      "  2.80412515  2.83667858  0.        ] [4.19178202 3.89695641 1.98806985 1.42373825 2.1351006  3.03747225\n",
      " 3.6219948  3.5228176  2.86818781 0.7028925  2.27923605 4.63187375\n",
      " 1.6245087  2.49813526 2.4458938  4.00662833 3.86376831 3.42522617\n",
      " 4.5177326  1.32008163 1.        ]\n"
     ]
    }
   ],
   "source": [
    "# get the data for classifier, 0\n",
    "out_0 = np.random.multivariate_normal(ds1_m0, ds1_cov, size=2000)\n",
    "label_0 = np.zeros((2000,1))\n",
    "labeled_ds1_0 = np.hstack((out_0, label_0))\n",
    "# get the data for classifier, 1\n",
    "out_1 = np.random.multivariate_normal(ds1_m1, ds1_cov, size=2000)\n",
    "label_1 = np.ones((2000,1))\n",
    "labeled_ds1_1 = np.hstack((out_1, label_1))\n",
    "print(labeled_ds1_0[0], labeled_ds1_1[1])"
   ]
  },
  {
   "cell_type": "code",
   "execution_count": 5,
   "metadata": {},
   "outputs": [],
   "source": [
    "# concaternate negative and positive data\n",
    "merged_ds1 = np.vstack((labeled_ds1_0,labeled_ds1_1))\n",
    "# shuffle the negative and positive data\n",
    "np.random.shuffle(merged_ds1)\n",
    "#np.savetxt(\"DS1.csv\", merged_ds1, delimiter=\",\")\n",
    "# get the data split into two parts randomly: training and testing data\n",
    "train, test = train_test_split(merged_ds1, test_size=0.3)\n",
    "n = train.shape[0]\n",
    "n_test = test.shape[0]"
   ]
  },
  {
   "cell_type": "code",
   "execution_count": 6,
   "metadata": {},
   "outputs": [
    {
     "data": {
      "text/plain": [
       "(20,)"
      ]
     },
     "execution_count": 6,
     "metadata": {},
     "output_type": "execute_result"
    }
   ],
   "source": [
    "mu1 = np.mean(train[train[0:,-1] == 1][0:,0:-1], axis=0) #mu1 hat\n",
    "mu0 = np.mean(train[train[0:,-1] == 0][0:,0:-1], axis=0) #mu1 hat\n",
    "mu0.shape"
   ]
  },
  {
   "cell_type": "code",
   "execution_count": 7,
   "metadata": {},
   "outputs": [
    {
     "name": "stdout",
     "output_type": "stream",
     "text": [
      "n_0:  1394,  n_1:  1406\n"
     ]
    }
   ],
   "source": [
    "n_0 = len(train[train[0:,-1] == 0])\n",
    "n_1 = len(train[train[0:,-1] == 1])\n",
    "p_y0 = n_0/n\n",
    "p_y1 = n_1/n\n",
    "print('n_0: % d,' % n_0, ' n_1: % d' % n_1)"
   ]
  },
  {
   "cell_type": "code",
   "execution_count": 8,
   "metadata": {},
   "outputs": [],
   "source": [
    "s1 = train[train[0:,-1] == 1][0:, 0:-1] - mu1\n",
    "sig1 =  np.dot(s1.transpose(), s1)\n",
    "s0 = train[train[0:,-1] == 1][0:, 0:-1] - mu0\n",
    "sig0 =  np.dot(s0.transpose(), s0)\n",
    "sigma = (sig0 + sig1)/n\n",
    "invsig = np.linalg.inv(sigma)"
   ]
  },
  {
   "cell_type": "code",
   "execution_count": 9,
   "metadata": {},
   "outputs": [
    {
     "name": "stdout",
     "output_type": "stream",
     "text": [
      "w0: 3.9838 w1:  [ 2.06477994 -1.25471073 -0.855906   -0.58358224 -1.42189548 -0.63569193\n",
      "  2.57998318 -3.45045205 -4.27487722  1.28159986 -1.89281825 -1.84757829\n",
      "  2.31854499  1.94551299 -0.80107516  1.8637994   4.36818708 -0.94372199\n",
      " -0.2076562  -0.66452819]\n"
     ]
    }
   ],
   "source": [
    "# estimate w0 and w1\n",
    "w_0 = np.log(p_y0) - np.log(p_y1) - (1/2)*(np.dot(np.dot(mu0.transpose(), invsig), mu0)) + (1/2)*(np.dot(np.dot(mu1.transpose(), invsig), mu1))\n",
    "w_1 = np.dot(invsig, (mu0 - mu1))\n",
    "print('w0: %0.4f' % w_0, 'w1: ', w_1)"
   ]
  },
  {
   "cell_type": "code",
   "execution_count": 10,
   "metadata": {},
   "outputs": [
    {
     "name": "stdout",
     "output_type": "stream",
     "text": [
      "The error rate of the estimation on the testing set is 70/1200 or : 5.833333333333333%\n"
     ]
    }
   ],
   "source": [
    "tmp = np.dot(test[0:,0:-1], w_1)\n",
    "result = w_0 + tmp\n",
    "result[result >= 0] = 0\n",
    "result[result < 0] = 1\n",
    "error = sum(result != test[:,-1])\n",
    "print(\"The error rate of the estimation on the testing set is {0}/{1} or : {2}%\"\\\n",
    "          .format(error, n_test, 100*error/n_test))"
   ]
  },
  {
   "cell_type": "code",
   "execution_count": 11,
   "metadata": {
    "scrolled": true
   },
   "outputs": [
    {
     "name": "stdout",
     "output_type": "stream",
     "text": [
      "             precision    recall  f1-score   support\n",
      "\n",
      "    class 0       0.95      0.94      0.94       606\n",
      "    class 1       0.94      0.94      0.94       594\n",
      "\n",
      "avg / total       0.94      0.94      0.94      1200\n",
      "\n"
     ]
    }
   ],
   "source": [
    "# fit metric\n",
    "from sklearn.metrics import classification_report\n",
    "y_true = test[:,-1]\n",
    "y_pred = result\n",
    "print(classification_report(y_true, y_pred, target_names=['class 0', 'class 1']))"
   ]
  },
  {
   "cell_type": "code",
   "execution_count": 12,
   "metadata": {},
   "outputs": [],
   "source": [
    "# use KNN to fit data\n",
    "from collections import Counter\n",
    "class KNearestNeighbors(object):\n",
    "    \n",
    "    def __init__(self,k,distance):\n",
    "        self.k=k\n",
    "        self.distance=distance\n",
    "        self.X_train=np.asarray([])\n",
    "        self.y_train=np.asarray([])\n",
    "        \n",
    "    def fit(self,X,y):\n",
    "        self.X_train=X\n",
    "        self.y_train=y\n",
    "        \n",
    "    def predict(self,X):\n",
    "        X=X.reshape((-1,self.X_train.shape[1]))\n",
    "        \n",
    "        #Creating matrix to store distance\n",
    "        distances=np.zeros((X.shape[0],self.X_train.shape[0]))\n",
    "        for i,x in enumerate(X):\n",
    "            for j,x_train in enumerate(self.X_train):\n",
    "                distances[i,j]=self.distance(x_train,x)\n",
    "        #Storing the indices of top k elements where distance is in increasing order\n",
    "        sorted_indices=distances.argsort()[:,:self.k]\n",
    "        top_k = self.y_train[sorted_indices]  #sort and take top k\n",
    "        result = np.zeros(X.shape[0])\n",
    "        for i, values in enumerate(top_k):\n",
    "            result[i] = Counter(values).most_common(1)[0][0]\n",
    "        return result"
   ]
  },
  {
   "cell_type": "code",
   "execution_count": 13,
   "metadata": {},
   "outputs": [],
   "source": [
    "#Computes the euclidean distance\n",
    "\n",
    "def euclidean_distance(a,b):\n",
    "    distance=np.sqrt(np.dot(a-b,a-b))\n",
    "    return distance\n",
    "\n",
    "#Computes cosine similarity between the two vectors\n",
    "\n",
    "def cosine_distance(a,b):\n",
    "       \n",
    "    distance=1-np.dot(a,b)/np.sqrt(np.dot(a,a)*np.dot(b,b))\n",
    "    return distance"
   ]
  },
  {
   "cell_type": "code",
   "execution_count": 14,
   "metadata": {},
   "outputs": [
    {
     "name": "stdout",
     "output_type": "stream",
     "text": [
      "[0. 1. 1. ... 1. 1. 0.] [1. 0. 0. ... 1. 0. 0.]\n"
     ]
    }
   ],
   "source": [
    "knn = KNearestNeighbors(6, euclidean_distance)\n",
    "knn.fit(train[:,0:-1], train[:,-1])\n",
    "knn_res = knn.predict(test[:,0:-1])\n",
    "knn_res.shape\n",
    "print(y_true, knn_res)"
   ]
  },
  {
   "cell_type": "code",
   "execution_count": 15,
   "metadata": {},
   "outputs": [
    {
     "name": "stdout",
     "output_type": "stream",
     "text": [
      "             precision    recall  f1-score   support\n",
      "\n",
      "    class 0       0.51      0.54      0.53       606\n",
      "    class 1       0.50      0.47      0.49       594\n",
      "\n",
      "avg / total       0.51      0.51      0.51      1200\n",
      "\n"
     ]
    }
   ],
   "source": [
    "print(classification_report(y_true, knn_res, target_names=['class 0', 'class 1']))"
   ]
  },
  {
   "cell_type": "code",
   "execution_count": 16,
   "metadata": {},
   "outputs": [],
   "source": [
    "from sklearn.metrics import precision_recall_fscore_support\n",
    "p_set = []\n",
    "r_set = []\n",
    "f1_set= []\n",
    "s_set = []\n",
    "for i in range(20):\n",
    "    knn = KNearestNeighbors(i+1, euclidean_distance)\n",
    "    knn.fit(train[:,0:-1], train[:,-1])\n",
    "    test_result = knn.predict(test[:,0:-1])\n",
    "    p, r, f1, s = precision_recall_fscore_support(y_true, test_result, average='binary')\n",
    "    p_set.append(p)\n",
    "    r_set.append(r)\n",
    "    f1_set.append(f1)\n",
    "    s_set.append(s)"
   ]
  },
  {
   "cell_type": "code",
   "execution_count": 17,
   "metadata": {},
   "outputs": [
    {
     "name": "stdout",
     "output_type": "stream",
     "text": [
      "best fit result: k=18 \n"
     ]
    },
    {
     "data": {
      "image/png": "[encoded data removed]",
      "text/plain": [
       "<matplotlib.figure.Figure at 0x1c68b1c6860>"
      ]
     },
     "metadata": {},
     "output_type": "display_data"
    }
   ],
   "source": [
    "from matplotlib import cm\n",
    "plt.plot(p_set, c=cm.hsv(0.1), label='Precision')\n",
    "plt.plot(r_set, c=cm.hsv(0.5), label='Recall')\n",
    "plt.plot(f1_set, c=cm.hsv(0.9), label='F1')\n",
    "plt.legend(loc='upper left')\n",
    "print('best fit result: k=%d '%(p_set.index(max(p_set))+1))"
   ]
  },
  {
   "cell_type": "markdown",
   "metadata": {},
   "source": [
    "### Q3. Generate Multi-Gaussian-Model"
   ]
  },
  {
   "cell_type": "code",
   "execution_count": 26,
   "metadata": {},
   "outputs": [],
   "source": [
    "def read_mean(filename):\n",
    "    mean_data = pd.read_csv(filename, sep=\",\", header=None)\n",
    "    mean_data = mean_data.dropna(axis=1,how='all')\n",
    "    mean_data = np.squeeze(np.asarray(mean_data))\n",
    "    return mean_data\n",
    "def read_cov(filename):\n",
    "    cov_data = pd.read_csv(filename, sep=\",\", header=None)\n",
    "    cov_data = cov_data.dropna(axis=1, how='all')\n",
    "    cov_data = np.squeeze(np.asarray(cov_data))\n",
    "    return cov_data"
   ]
  },
  {
   "cell_type": "code",
   "execution_count": 27,
   "metadata": {},
   "outputs": [
    {
     "name": "stdout",
     "output_type": "stream",
     "text": [
      "[1. 1. 1. 1. 1. 1. 1. 1. 1. 1. 1. 1. 1. 1. 1. 1. 1. 1. 1. 1.] \n",
      " [0.7 0.7 0.7 0.7 0.7 0.7 0.7 0.7 0.7 0.7 0.7 0.7 0.7 0.7 0.7 0.7 0.7 0.7\n",
      " 0.7 0.7] \n",
      " [1.3 1.3 1.3 1.3 1.3 1.3 1.3 1.3 1.3 1.3 1.3 1.3 1.3 1.3 1.3 1.3 1.3 1.3\n",
      " 1.3 1.3] \n",
      " [2. 2. 2. 2. 2. 2. 2. 2. 2. 2. 2. 2. 2. 2. 2. 2. 2. 2. 2. 2.] \n",
      " [1.7 1.7 1.7 1.7 1.7 1.7 1.7 1.7 1.7 1.7 1.7 1.7 1.7 1.7 1.7 1.7 1.7 1.7\n",
      " 1.7 1.7] \n",
      " [0.6 0.6 0.6 0.6 0.6 0.6 0.6 0.6 0.6 0.6 0.6 0.6 0.6 0.6 0.6 0.6 0.6 0.6\n",
      " 0.6 0.6]\n"
     ]
    }
   ],
   "source": [
    "# read classifier data, mean\n",
    "# positive class\n",
    "ds2_c1_m1 = read_mean('./Data/DS2_c1_m1.txt')\n",
    "ds2_c1_m2 = read_mean('./Data/DS2_c1_m2.txt')\n",
    "ds2_c1_m3 = read_mean('./Data/DS2_c1_m3.txt')\n",
    "# negative class\n",
    "ds2_c2_m1 = read_mean('./Data/DS2_c2_m1.txt')\n",
    "ds2_c2_m2 = read_mean('./Data/DS2_c2_m2.txt')\n",
    "ds2_c2_m3 = read_mean('./Data/DS2_c2_m3.txt')\n",
    "\n",
    "print(ds2_c1_m1,'\\n', ds2_c1_m2,'\\n', ds2_c1_m3,'\\n', ds2_c2_m1,'\\n', ds2_c2_m2,'\\n', ds2_c2_m3)\n",
    "# read covarience matrices\n",
    "ds2_cov1 = read_cov('./Data/DS2_Cov1.txt')\n",
    "ds2_cov2 = read_cov('./Data/DS2_Cov2.txt')\n",
    "ds2_cov3 = read_cov('./Data/DS2_Cov3.txt')\n",
    "\n",
    "# get the data for classifier, negative class\n",
    "ds2_positive_out1 = np.random.multivariate_normal(ds2_c1_m1, ds2_cov1_data, size=2000)\n",
    "ds2_positive_out2 = np.random.multivariate_normal(ds2_c1_m2, ds2_cov2_data, size=2000)\n",
    "ds2_positive_out3 = np.random.multivariate_normal(ds2_c1_m3, ds2_cov3_data, size=2000)\n",
    "ds2_negative_out1 = np.random.multivariate_normal(ds2_c2_m1, ds2_cov1_data, size=2000)\n",
    "ds2_negative_out2 = np.random.multivariate_normal(ds2_c2_m2, ds2_cov1_data, size=2000)\n",
    "ds2_negative_out3 = np.random.multivariate_normal(ds2_c2_m3, ds2_cov1_data, size=2000)\n",
    "# multi-gaussian model combine: 0.1,0.42,0.48\n",
    "positive_out = (0.1*ds2_positive_out1 + 0.42*ds2_positive_out2 + 0.48*ds2_positive_out3)\n",
    "negative_out = (0.1*ds2_negative_out1 + 0.42*ds2_negative_out2 + 0.48*ds2_negative_out3)\n",
    "labeled_ds2_positive_out = np.hstack((positive_out, label_1))\n",
    "labeled_ds2_negative_out = np.hstack((negative_out, label_0))\n"
   ]
  },
  {
   "cell_type": "code",
   "execution_count": 28,
   "metadata": {},
   "outputs": [],
   "source": [
    "# concaternate negative and positive data\n",
    "merged_ds2 = np.vstack((labeled_ds2_positive_out,labeled_ds2_negative_out))\n",
    "# shuffle the negative and positive data\n",
    "np.random.shuffle(merged_ds2)\n",
    "# np.savetxt(\"DS2.csv\", merged_ds2, delimiter=\",\")"
   ]
  },
  {
   "cell_type": "code",
   "execution_count": null,
   "metadata": {},
   "outputs": [],
   "source": []
  }
 ],
 "metadata": {
  "kernelspec": {
   "display_name": "Python 3",
   "language": "python",
   "name": "python3"
  },
  "language_info": {
   "codemirror_mode": {
    "name": "ipython",
    "version": 3
   },
   "file_extension": ".py",
   "mimetype": "text/x-python",
   "name": "python",
   "nbconvert_exporter": "python",
   "pygments_lexer": "ipython3",
   "version": "3.6.4"
  }
 },
 "nbformat": 4,
 "nbformat_minor": 1
}
