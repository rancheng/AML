{
 "cells": [
  {
   "cell_type": "markdown",
   "metadata": {
    "collapsed": true
   },
   "source": [
    "# COMP 551 AML Assignment 2\n",
    "## Ran Cheng, 260768706\n",
    "This project is for assignment 2 of applied machine learning course."
   ]
  },
  {
   "cell_type": "code",
   "execution_count": 1,
   "metadata": {},
   "outputs": [],
   "source": [
    "%matplotlib inline\n",
    "import numpy as np\n",
    "import pandas as pd\n",
    "import matplotlib.pyplot as plt\n",
    "from sklearn.model_selection import train_test_split"
   ]
  },
  {
   "cell_type": "code",
   "execution_count": 2,
   "metadata": {},
   "outputs": [
    {
     "name": "stdout",
     "output_type": "stream",
     "text": [
      "[1.3 1.3 1.3 1.3 1.3 1.3 1.3 1.3 1.3 1.3 1.3 1.3 1.3 1.3 1.3 1.3 1.3 1.3\n",
      " 1.3 1.3] [2. 2. 2. 2. 2. 2. 2. 2. 2. 2. 2. 2. 2. 2. 2. 2. 2. 2. 2. 2.]\n"
     ]
    }
   ],
   "source": [
    "# read classifier data, mean\n",
    "ds1_m0_data = pd.read_csv('./Data/DS1_m_0.txt', sep=\",\", header=None)\n",
    "ds1_m0_data = ds1_m0_data.dropna(axis=1, how='all')\n",
    "ds1_m0 = np.squeeze(np.asarray(ds1_m0_data))\n",
    "ds1_m1_data = pd.read_csv('./Data/DS1_m_1.txt', sep=\",\", header=None)\n",
    "ds1_m1_data = ds1_m1_data.dropna(axis=1, how='all')\n",
    "ds1_m1 = np.squeeze(np.asarray(ds1_m1_data))\n",
    "print(ds1_m0, ds1_m1)"
   ]
  },
  {
   "cell_type": "code",
   "execution_count": 3,
   "metadata": {},
   "outputs": [
    {
     "data": {
      "text/plain": [
       "(20, 20)"
      ]
     },
     "execution_count": 3,
     "metadata": {},
     "output_type": "execute_result"
    }
   ],
   "source": [
    "# read covarience matrrix\n",
    "ds1_cov_data = pd.read_csv('./Data/DS1_Cov.txt', sep=\",\", header=None)\n",
    "ds1_cov_data = ds1_cov_data.dropna(axis=1, how='all')\n",
    "ds1_cov = np.squeeze(np.asarray(ds1_cov_data))\n",
    "ds1_cov.shape"
   ]
  },
  {
   "cell_type": "code",
   "execution_count": 7,
   "metadata": {},
   "outputs": [
    {
     "name": "stdout",
     "output_type": "stream",
     "text": [
      "[1.46772028 0.80814889 1.78404503 1.2943795  1.34135711 2.81687096\n",
      " 1.22270178 4.09541582 2.49404259 6.095371   1.48324386 2.84226713\n",
      " 3.63548691 3.3938471  1.69986612 4.4541586  1.63144761 3.28515225\n",
      " 1.60744119 3.4854458  0.        ] [1.72869713 2.45825512 2.16915855 2.14944242 2.62383386 2.15532881\n",
      " 2.36779056 2.34829721 3.27037432 1.71524995 3.09746777 3.27805928\n",
      " 3.4014519  3.38746775 4.04650658 3.00519198 3.86978212 1.67751204\n",
      " 4.34960941 3.05262517 1.        ]\n"
     ]
    },
    {
     "data": {
      "text/plain": [
       "(2000, 20)"
      ]
     },
     "execution_count": 7,
     "metadata": {},
     "output_type": "execute_result"
    }
   ],
   "source": [
    "# get the data for classifier, 0\n",
    "out_0 = np.random.multivariate_normal(ds1_m0, ds1_cov, size=2000)\n",
    "label_0 = np.zeros((2000,1))\n",
    "labeled_ds1_0 = np.hstack((out_0, label_0))\n",
    "# get the data for classifier, 1\n",
    "out_1 = np.random.multivariate_normal(ds1_m1, ds1_cov, size=2000)\n",
    "label_1 = np.ones((2000,1))\n",
    "labeled_ds1_1 = np.hstack((out_1, label_1))\n",
    "print(labeled_ds1_0[0], labeled_ds1_1[1])"
   ]
  },
  {
   "cell_type": "code",
   "execution_count": 6,
   "metadata": {},
   "outputs": [
    {
     "data": {
      "text/plain": [
       "(2800, 21)"
      ]
     },
     "execution_count": 6,
     "metadata": {},
     "output_type": "execute_result"
    }
   ],
   "source": [
    "# concaternate negative and positive data\n",
    "merged_ds1 = np.vstack((labeled_ds1_0,labeled_ds1_1))\n",
    "# shuffle the negative and positive data\n",
    "np.random.shuffle(merged_ds1)\n",
    "# get the data split into two parts randomly: training and testing data\n",
    "train, test = train_test_split(merged_ds1, test_size=0.3)\n",
    "train.shape"
   ]
  },
  {
   "cell_type": "code",
   "execution_count": null,
   "metadata": {},
   "outputs": [],
   "source": []
  }
 ],
 "metadata": {
  "kernelspec": {
   "display_name": "Python 3",
   "language": "python",
   "name": "python3"
  },
  "language_info": {
   "codemirror_mode": {
    "name": "ipython",
    "version": 3
   },
   "file_extension": ".py",
   "mimetype": "text/x-python",
   "name": "python",
   "nbconvert_exporter": "python",
   "pygments_lexer": "ipython3",
   "version": "3.6.4"
  }
 },
 "nbformat": 4,
 "nbformat_minor": 1
}
